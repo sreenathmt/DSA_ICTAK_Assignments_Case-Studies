{
  "cells": [
    {
      "cell_type": "markdown",
      "metadata": {
        "id": "view-in-github",
        "colab_type": "text"
      },
      "source": [
        "<a href=\"https://colab.research.google.com/github/sreenathmt/DSA_ICTAK_Assignments_Case-Studies/blob/main/Data_preprocessing.ipynb\" target=\"_parent\"><img src=\"https://colab.research.google.com/assets/colab-badge.svg\" alt=\"Open In Colab\"/></a>"
      ]
    },
    {
      "cell_type": "markdown",
      "id": "767c1577-4c56-422f-ba9c-3bb450172711",
      "metadata": {
        "id": "767c1577-4c56-422f-ba9c-3bb450172711"
      },
      "source": [
        "# Case study on Pre-processing"
      ]
    },
    {
      "cell_type": "markdown",
      "id": "0f04c20b-1de9-4926-bae3-43b13ebc129e",
      "metadata": {
        "id": "0f04c20b-1de9-4926-bae3-43b13ebc129e"
      },
      "source": [
        "## Do the following on titanic dataset.\n",
        "*  Load the dataset into python environment\n",
        "*  Make ‘PassengerId’ as the index column\n",
        "*  Check the basic details of the dataset\n",
        "*  Fill in all the missing values present in all the columns in the dataset\n",
        "*  Check and handle outliers in at least 3 columns in the dataset\n",
        "*  Do min max scaling on the feature set (Take ‘Survived’ as target)"
      ]
    },
    {
      "cell_type": "code",
      "execution_count": null,
      "id": "59d31d02-18f9-4e99-91dd-b68c3035dee6",
      "metadata": {
        "id": "59d31d02-18f9-4e99-91dd-b68c3035dee6"
      },
      "outputs": [],
      "source": [
        "import pandas as pd\n",
        "import numpy as np\n",
        "import seaborn as sns\n",
        "import matplotlib.pyplot as plt"
      ]
    },
    {
      "cell_type": "markdown",
      "id": "4e1c9816-ada0-4a11-8136-f900306f4506",
      "metadata": {
        "id": "4e1c9816-ada0-4a11-8136-f900306f4506"
      },
      "source": [
        "### 1. Load the dataset into python environment "
      ]
    },
    {
      "cell_type": "code",
      "execution_count": null,
      "id": "dec8484d-3a73-44ca-8083-1919e2488533",
      "metadata": {
        "id": "dec8484d-3a73-44ca-8083-1919e2488533"
      },
      "outputs": [],
      "source": [
        "# rezding dataset\n",
        "df = pd.read_csv('titanic_dataset.csv')\n"
      ]
    },
    {
      "cell_type": "code",
      "execution_count": null,
      "id": "b11d97d5-6cb3-4624-a199-29848dfcd950",
      "metadata": {
        "id": "b11d97d5-6cb3-4624-a199-29848dfcd950",
        "outputId": "88f8e1c9-c15c-47a6-b6cd-0b68577042f3"
      },
      "outputs": [
        {
          "data": {
            "text/html": [
              "<div>\n",
              "<style scoped>\n",
              "    .dataframe tbody tr th:only-of-type {\n",
              "        vertical-align: middle;\n",
              "    }\n",
              "\n",
              "    .dataframe tbody tr th {\n",
              "        vertical-align: top;\n",
              "    }\n",
              "\n",
              "    .dataframe thead th {\n",
              "        text-align: right;\n",
              "    }\n",
              "</style>\n",
              "<table border=\"1\" class=\"dataframe\">\n",
              "  <thead>\n",
              "    <tr style=\"text-align: right;\">\n",
              "      <th></th>\n",
              "      <th>PassengerId</th>\n",
              "      <th>Survived</th>\n",
              "      <th>Pclass</th>\n",
              "      <th>Name</th>\n",
              "      <th>Sex</th>\n",
              "      <th>Age</th>\n",
              "      <th>SibSp</th>\n",
              "      <th>Parch</th>\n",
              "      <th>Ticket</th>\n",
              "      <th>Fare</th>\n",
              "      <th>Cabin</th>\n",
              "      <th>Embarked</th>\n",
              "    </tr>\n",
              "  </thead>\n",
              "  <tbody>\n",
              "    <tr>\n",
              "      <th>0</th>\n",
              "      <td>1</td>\n",
              "      <td>0</td>\n",
              "      <td>3</td>\n",
              "      <td>Braund, Mr. Owen Harris</td>\n",
              "      <td>male</td>\n",
              "      <td>22.0</td>\n",
              "      <td>1</td>\n",
              "      <td>0</td>\n",
              "      <td>A/5 21171</td>\n",
              "      <td>7.2500</td>\n",
              "      <td>NaN</td>\n",
              "      <td>S</td>\n",
              "    </tr>\n",
              "    <tr>\n",
              "      <th>1</th>\n",
              "      <td>2</td>\n",
              "      <td>1</td>\n",
              "      <td>1</td>\n",
              "      <td>Cumings, Mrs. John Bradley (Florence Briggs Th...</td>\n",
              "      <td>female</td>\n",
              "      <td>38.0</td>\n",
              "      <td>1</td>\n",
              "      <td>0</td>\n",
              "      <td>PC 17599</td>\n",
              "      <td>71.2833</td>\n",
              "      <td>C85</td>\n",
              "      <td>C</td>\n",
              "    </tr>\n",
              "    <tr>\n",
              "      <th>2</th>\n",
              "      <td>3</td>\n",
              "      <td>1</td>\n",
              "      <td>3</td>\n",
              "      <td>Heikkinen, Miss. Laina</td>\n",
              "      <td>female</td>\n",
              "      <td>26.0</td>\n",
              "      <td>0</td>\n",
              "      <td>0</td>\n",
              "      <td>STON/O2. 3101282</td>\n",
              "      <td>7.9250</td>\n",
              "      <td>NaN</td>\n",
              "      <td>S</td>\n",
              "    </tr>\n",
              "    <tr>\n",
              "      <th>3</th>\n",
              "      <td>4</td>\n",
              "      <td>1</td>\n",
              "      <td>1</td>\n",
              "      <td>Futrelle, Mrs. Jacques Heath (Lily May Peel)</td>\n",
              "      <td>female</td>\n",
              "      <td>35.0</td>\n",
              "      <td>1</td>\n",
              "      <td>0</td>\n",
              "      <td>113803</td>\n",
              "      <td>53.1000</td>\n",
              "      <td>C123</td>\n",
              "      <td>S</td>\n",
              "    </tr>\n",
              "    <tr>\n",
              "      <th>4</th>\n",
              "      <td>5</td>\n",
              "      <td>0</td>\n",
              "      <td>3</td>\n",
              "      <td>Allen, Mr. William Henry</td>\n",
              "      <td>male</td>\n",
              "      <td>35.0</td>\n",
              "      <td>0</td>\n",
              "      <td>0</td>\n",
              "      <td>373450</td>\n",
              "      <td>8.0500</td>\n",
              "      <td>NaN</td>\n",
              "      <td>S</td>\n",
              "    </tr>\n",
              "  </tbody>\n",
              "</table>\n",
              "</div>"
            ],
            "text/plain": [
              "   PassengerId  Survived  Pclass  \\\n",
              "0            1         0       3   \n",
              "1            2         1       1   \n",
              "2            3         1       3   \n",
              "3            4         1       1   \n",
              "4            5         0       3   \n",
              "\n",
              "                                                Name     Sex   Age  SibSp  \\\n",
              "0                            Braund, Mr. Owen Harris    male  22.0      1   \n",
              "1  Cumings, Mrs. John Bradley (Florence Briggs Th...  female  38.0      1   \n",
              "2                             Heikkinen, Miss. Laina  female  26.0      0   \n",
              "3       Futrelle, Mrs. Jacques Heath (Lily May Peel)  female  35.0      1   \n",
              "4                           Allen, Mr. William Henry    male  35.0      0   \n",
              "\n",
              "   Parch            Ticket     Fare Cabin Embarked  \n",
              "0      0         A/5 21171   7.2500   NaN        S  \n",
              "1      0          PC 17599  71.2833   C85        C  \n",
              "2      0  STON/O2. 3101282   7.9250   NaN        S  \n",
              "3      0            113803  53.1000  C123        S  \n",
              "4      0            373450   8.0500   NaN        S  "
            ]
          },
          "execution_count": 203,
          "metadata": {},
          "output_type": "execute_result"
        }
      ],
      "source": [
        "df.head()"
      ]
    },
    {
      "cell_type": "markdown",
      "id": "5e64f44e-e71e-4086-bd8f-940e66dcee95",
      "metadata": {
        "id": "5e64f44e-e71e-4086-bd8f-940e66dcee95"
      },
      "source": [
        "### 2.Make ‘PassengerId’ as the index column"
      ]
    },
    {
      "cell_type": "code",
      "execution_count": null,
      "id": "a0554d61-568c-4ffb-8ebf-9babb2853750",
      "metadata": {
        "id": "a0554d61-568c-4ffb-8ebf-9babb2853750"
      },
      "outputs": [],
      "source": [
        "df.set_index(['PassengerId'], inplace = True)"
      ]
    },
    {
      "cell_type": "code",
      "execution_count": null,
      "id": "83a4dee9-bd77-42f2-a251-f8c5d96a3083",
      "metadata": {
        "id": "83a4dee9-bd77-42f2-a251-f8c5d96a3083",
        "outputId": "ada65d78-4763-411d-9a6f-11797f191835"
      },
      "outputs": [
        {
          "data": {
            "text/html": [
              "<div>\n",
              "<style scoped>\n",
              "    .dataframe tbody tr th:only-of-type {\n",
              "        vertical-align: middle;\n",
              "    }\n",
              "\n",
              "    .dataframe tbody tr th {\n",
              "        vertical-align: top;\n",
              "    }\n",
              "\n",
              "    .dataframe thead th {\n",
              "        text-align: right;\n",
              "    }\n",
              "</style>\n",
              "<table border=\"1\" class=\"dataframe\">\n",
              "  <thead>\n",
              "    <tr style=\"text-align: right;\">\n",
              "      <th></th>\n",
              "      <th>Survived</th>\n",
              "      <th>Pclass</th>\n",
              "      <th>Name</th>\n",
              "      <th>Sex</th>\n",
              "      <th>Age</th>\n",
              "      <th>SibSp</th>\n",
              "      <th>Parch</th>\n",
              "      <th>Ticket</th>\n",
              "      <th>Fare</th>\n",
              "      <th>Cabin</th>\n",
              "      <th>Embarked</th>\n",
              "    </tr>\n",
              "    <tr>\n",
              "      <th>PassengerId</th>\n",
              "      <th></th>\n",
              "      <th></th>\n",
              "      <th></th>\n",
              "      <th></th>\n",
              "      <th></th>\n",
              "      <th></th>\n",
              "      <th></th>\n",
              "      <th></th>\n",
              "      <th></th>\n",
              "      <th></th>\n",
              "      <th></th>\n",
              "    </tr>\n",
              "  </thead>\n",
              "  <tbody>\n",
              "    <tr>\n",
              "      <th>1</th>\n",
              "      <td>0</td>\n",
              "      <td>3</td>\n",
              "      <td>Braund, Mr. Owen Harris</td>\n",
              "      <td>male</td>\n",
              "      <td>22.0</td>\n",
              "      <td>1</td>\n",
              "      <td>0</td>\n",
              "      <td>A/5 21171</td>\n",
              "      <td>7.2500</td>\n",
              "      <td>NaN</td>\n",
              "      <td>S</td>\n",
              "    </tr>\n",
              "    <tr>\n",
              "      <th>2</th>\n",
              "      <td>1</td>\n",
              "      <td>1</td>\n",
              "      <td>Cumings, Mrs. John Bradley (Florence Briggs Th...</td>\n",
              "      <td>female</td>\n",
              "      <td>38.0</td>\n",
              "      <td>1</td>\n",
              "      <td>0</td>\n",
              "      <td>PC 17599</td>\n",
              "      <td>71.2833</td>\n",
              "      <td>C85</td>\n",
              "      <td>C</td>\n",
              "    </tr>\n",
              "    <tr>\n",
              "      <th>3</th>\n",
              "      <td>1</td>\n",
              "      <td>3</td>\n",
              "      <td>Heikkinen, Miss. Laina</td>\n",
              "      <td>female</td>\n",
              "      <td>26.0</td>\n",
              "      <td>0</td>\n",
              "      <td>0</td>\n",
              "      <td>STON/O2. 3101282</td>\n",
              "      <td>7.9250</td>\n",
              "      <td>NaN</td>\n",
              "      <td>S</td>\n",
              "    </tr>\n",
              "    <tr>\n",
              "      <th>4</th>\n",
              "      <td>1</td>\n",
              "      <td>1</td>\n",
              "      <td>Futrelle, Mrs. Jacques Heath (Lily May Peel)</td>\n",
              "      <td>female</td>\n",
              "      <td>35.0</td>\n",
              "      <td>1</td>\n",
              "      <td>0</td>\n",
              "      <td>113803</td>\n",
              "      <td>53.1000</td>\n",
              "      <td>C123</td>\n",
              "      <td>S</td>\n",
              "    </tr>\n",
              "    <tr>\n",
              "      <th>5</th>\n",
              "      <td>0</td>\n",
              "      <td>3</td>\n",
              "      <td>Allen, Mr. William Henry</td>\n",
              "      <td>male</td>\n",
              "      <td>35.0</td>\n",
              "      <td>0</td>\n",
              "      <td>0</td>\n",
              "      <td>373450</td>\n",
              "      <td>8.0500</td>\n",
              "      <td>NaN</td>\n",
              "      <td>S</td>\n",
              "    </tr>\n",
              "  </tbody>\n",
              "</table>\n",
              "</div>"
            ],
            "text/plain": [
              "             Survived  Pclass  \\\n",
              "PassengerId                     \n",
              "1                   0       3   \n",
              "2                   1       1   \n",
              "3                   1       3   \n",
              "4                   1       1   \n",
              "5                   0       3   \n",
              "\n",
              "                                                          Name     Sex   Age  \\\n",
              "PassengerId                                                                    \n",
              "1                                      Braund, Mr. Owen Harris    male  22.0   \n",
              "2            Cumings, Mrs. John Bradley (Florence Briggs Th...  female  38.0   \n",
              "3                                       Heikkinen, Miss. Laina  female  26.0   \n",
              "4                 Futrelle, Mrs. Jacques Heath (Lily May Peel)  female  35.0   \n",
              "5                                     Allen, Mr. William Henry    male  35.0   \n",
              "\n",
              "             SibSp  Parch            Ticket     Fare Cabin Embarked  \n",
              "PassengerId                                                          \n",
              "1                1      0         A/5 21171   7.2500   NaN        S  \n",
              "2                1      0          PC 17599  71.2833   C85        C  \n",
              "3                0      0  STON/O2. 3101282   7.9250   NaN        S  \n",
              "4                1      0            113803  53.1000  C123        S  \n",
              "5                0      0            373450   8.0500   NaN        S  "
            ]
          },
          "execution_count": 205,
          "metadata": {},
          "output_type": "execute_result"
        }
      ],
      "source": [
        "df.head()"
      ]
    },
    {
      "cell_type": "markdown",
      "id": "304b6a82-262d-49bd-8655-22083f74ead4",
      "metadata": {
        "id": "304b6a82-262d-49bd-8655-22083f74ead4"
      },
      "source": [
        "## 3.Check the basic details of the dataset"
      ]
    },
    {
      "cell_type": "code",
      "execution_count": null,
      "id": "7828214a-4611-4584-b840-a3705b2b4d13",
      "metadata": {
        "id": "7828214a-4611-4584-b840-a3705b2b4d13",
        "outputId": "12061e2e-38c5-49ab-a4e0-24dae5a92831"
      },
      "outputs": [
        {
          "name": "stdout",
          "output_type": "stream",
          "text": [
            "<class 'pandas.core.frame.DataFrame'>\n",
            "Int64Index: 891 entries, 1 to 891\n",
            "Data columns (total 11 columns):\n",
            " #   Column    Non-Null Count  Dtype  \n",
            "---  ------    --------------  -----  \n",
            " 0   Survived  891 non-null    int64  \n",
            " 1   Pclass    891 non-null    int64  \n",
            " 2   Name      891 non-null    object \n",
            " 3   Sex       891 non-null    object \n",
            " 4   Age       714 non-null    float64\n",
            " 5   SibSp     891 non-null    int64  \n",
            " 6   Parch     891 non-null    int64  \n",
            " 7   Ticket    891 non-null    object \n",
            " 8   Fare      891 non-null    float64\n",
            " 9   Cabin     204 non-null    object \n",
            " 10  Embarked  889 non-null    object \n",
            "dtypes: float64(2), int64(4), object(5)\n",
            "memory usage: 83.5+ KB\n"
          ]
        }
      ],
      "source": [
        "df.info()"
      ]
    },
    {
      "cell_type": "code",
      "execution_count": null,
      "id": "25c47216-f6e1-474a-8cc7-47b97e16e636",
      "metadata": {
        "id": "25c47216-f6e1-474a-8cc7-47b97e16e636",
        "outputId": "06b2932a-e95b-48a1-f73e-53c3a2a60eff"
      },
      "outputs": [
        {
          "data": {
            "text/html": [
              "<div>\n",
              "<style scoped>\n",
              "    .dataframe tbody tr th:only-of-type {\n",
              "        vertical-align: middle;\n",
              "    }\n",
              "\n",
              "    .dataframe tbody tr th {\n",
              "        vertical-align: top;\n",
              "    }\n",
              "\n",
              "    .dataframe thead th {\n",
              "        text-align: right;\n",
              "    }\n",
              "</style>\n",
              "<table border=\"1\" class=\"dataframe\">\n",
              "  <thead>\n",
              "    <tr style=\"text-align: right;\">\n",
              "      <th></th>\n",
              "      <th>Survived</th>\n",
              "      <th>Pclass</th>\n",
              "      <th>Age</th>\n",
              "      <th>SibSp</th>\n",
              "      <th>Parch</th>\n",
              "      <th>Fare</th>\n",
              "    </tr>\n",
              "  </thead>\n",
              "  <tbody>\n",
              "    <tr>\n",
              "      <th>count</th>\n",
              "      <td>891.000000</td>\n",
              "      <td>891.000000</td>\n",
              "      <td>714.000000</td>\n",
              "      <td>891.000000</td>\n",
              "      <td>891.000000</td>\n",
              "      <td>891.000000</td>\n",
              "    </tr>\n",
              "    <tr>\n",
              "      <th>mean</th>\n",
              "      <td>0.383838</td>\n",
              "      <td>2.308642</td>\n",
              "      <td>29.699118</td>\n",
              "      <td>0.523008</td>\n",
              "      <td>0.381594</td>\n",
              "      <td>32.204208</td>\n",
              "    </tr>\n",
              "    <tr>\n",
              "      <th>std</th>\n",
              "      <td>0.486592</td>\n",
              "      <td>0.836071</td>\n",
              "      <td>14.526497</td>\n",
              "      <td>1.102743</td>\n",
              "      <td>0.806057</td>\n",
              "      <td>49.693429</td>\n",
              "    </tr>\n",
              "    <tr>\n",
              "      <th>min</th>\n",
              "      <td>0.000000</td>\n",
              "      <td>1.000000</td>\n",
              "      <td>0.420000</td>\n",
              "      <td>0.000000</td>\n",
              "      <td>0.000000</td>\n",
              "      <td>0.000000</td>\n",
              "    </tr>\n",
              "    <tr>\n",
              "      <th>25%</th>\n",
              "      <td>0.000000</td>\n",
              "      <td>2.000000</td>\n",
              "      <td>20.125000</td>\n",
              "      <td>0.000000</td>\n",
              "      <td>0.000000</td>\n",
              "      <td>7.910400</td>\n",
              "    </tr>\n",
              "    <tr>\n",
              "      <th>50%</th>\n",
              "      <td>0.000000</td>\n",
              "      <td>3.000000</td>\n",
              "      <td>28.000000</td>\n",
              "      <td>0.000000</td>\n",
              "      <td>0.000000</td>\n",
              "      <td>14.454200</td>\n",
              "    </tr>\n",
              "    <tr>\n",
              "      <th>75%</th>\n",
              "      <td>1.000000</td>\n",
              "      <td>3.000000</td>\n",
              "      <td>38.000000</td>\n",
              "      <td>1.000000</td>\n",
              "      <td>0.000000</td>\n",
              "      <td>31.000000</td>\n",
              "    </tr>\n",
              "    <tr>\n",
              "      <th>max</th>\n",
              "      <td>1.000000</td>\n",
              "      <td>3.000000</td>\n",
              "      <td>80.000000</td>\n",
              "      <td>8.000000</td>\n",
              "      <td>6.000000</td>\n",
              "      <td>512.329200</td>\n",
              "    </tr>\n",
              "  </tbody>\n",
              "</table>\n",
              "</div>"
            ],
            "text/plain": [
              "         Survived      Pclass         Age       SibSp       Parch        Fare\n",
              "count  891.000000  891.000000  714.000000  891.000000  891.000000  891.000000\n",
              "mean     0.383838    2.308642   29.699118    0.523008    0.381594   32.204208\n",
              "std      0.486592    0.836071   14.526497    1.102743    0.806057   49.693429\n",
              "min      0.000000    1.000000    0.420000    0.000000    0.000000    0.000000\n",
              "25%      0.000000    2.000000   20.125000    0.000000    0.000000    7.910400\n",
              "50%      0.000000    3.000000   28.000000    0.000000    0.000000   14.454200\n",
              "75%      1.000000    3.000000   38.000000    1.000000    0.000000   31.000000\n",
              "max      1.000000    3.000000   80.000000    8.000000    6.000000  512.329200"
            ]
          },
          "execution_count": 207,
          "metadata": {},
          "output_type": "execute_result"
        }
      ],
      "source": [
        "df.describe()"
      ]
    },
    {
      "cell_type": "code",
      "execution_count": null,
      "id": "366fc8c9-0401-42e5-bcf4-43f1f5a8efa4",
      "metadata": {
        "id": "366fc8c9-0401-42e5-bcf4-43f1f5a8efa4",
        "outputId": "dd239555-72d7-4c0c-aa81-0390f353ceda"
      },
      "outputs": [
        {
          "data": {
            "text/plain": [
              "(891, 11)"
            ]
          },
          "execution_count": 208,
          "metadata": {},
          "output_type": "execute_result"
        }
      ],
      "source": [
        "df.shape"
      ]
    },
    {
      "cell_type": "code",
      "execution_count": null,
      "id": "9c55ee0c-b7e0-4699-bca0-05cb874f7e7c",
      "metadata": {
        "id": "9c55ee0c-b7e0-4699-bca0-05cb874f7e7c",
        "outputId": "175d8d5f-c7ca-41f9-e894-e2be337506fb"
      },
      "outputs": [
        {
          "data": {
            "text/plain": [
              "Survived      0\n",
              "Pclass        0\n",
              "Name          0\n",
              "Sex           0\n",
              "Age         177\n",
              "SibSp         0\n",
              "Parch         0\n",
              "Ticket        0\n",
              "Fare          0\n",
              "Cabin       687\n",
              "Embarked      2\n",
              "dtype: int64"
            ]
          },
          "execution_count": 209,
          "metadata": {},
          "output_type": "execute_result"
        }
      ],
      "source": [
        "df.isna().sum()"
      ]
    },
    {
      "cell_type": "markdown",
      "id": "ceff3e08-eb5b-449c-8fad-01ae8de1b9ff",
      "metadata": {
        "id": "ceff3e08-eb5b-449c-8fad-01ae8de1b9ff"
      },
      "source": [
        "* From this its clear that there are considerable null values in age and cabin , also gender categorical data is there."
      ]
    },
    {
      "cell_type": "markdown",
      "id": "e2cb0f69-9c29-4428-b05d-b64c3a8b4692",
      "metadata": {
        "id": "e2cb0f69-9c29-4428-b05d-b64c3a8b4692"
      },
      "source": [
        "### 4.Fill in all the missing values present in all the columns in the dataset"
      ]
    },
    {
      "cell_type": "code",
      "execution_count": null,
      "id": "c4d53e85-c433-490a-9d67-b1c690774ab2",
      "metadata": {
        "id": "c4d53e85-c433-490a-9d67-b1c690774ab2",
        "outputId": "42dac32e-8fb7-42dd-a93f-c70be444e1c2"
      },
      "outputs": [
        {
          "data": {
            "text/plain": [
              "Survived      int64\n",
              "Pclass        int64\n",
              "Name         object\n",
              "Sex          object\n",
              "Age         float64\n",
              "SibSp         int64\n",
              "Parch         int64\n",
              "Ticket       object\n",
              "Fare        float64\n",
              "Cabin        object\n",
              "Embarked     object\n",
              "dtype: object"
            ]
          },
          "execution_count": 210,
          "metadata": {},
          "output_type": "execute_result"
        }
      ],
      "source": [
        "# Checking data types\n",
        "df.dtypes\n"
      ]
    },
    {
      "cell_type": "code",
      "execution_count": null,
      "id": "d14d0694-9c52-4f09-8a86-711ed9ec8f38",
      "metadata": {
        "id": "d14d0694-9c52-4f09-8a86-711ed9ec8f38",
        "outputId": "47308457-e6bf-4d23-cfa8-716de913960e"
      },
      "outputs": [
        {
          "data": {
            "text/plain": [
              "Survived      0\n",
              "Pclass        0\n",
              "Name          0\n",
              "Sex           0\n",
              "Age         177\n",
              "SibSp         0\n",
              "Parch         0\n",
              "Ticket        0\n",
              "Fare          0\n",
              "Cabin       687\n",
              "Embarked      2\n",
              "dtype: int64"
            ]
          },
          "execution_count": 211,
          "metadata": {},
          "output_type": "execute_result"
        }
      ],
      "source": [
        "df.isna().sum()"
      ]
    },
    {
      "cell_type": "code",
      "execution_count": null,
      "id": "3f79992b-30e7-435f-a55e-cf41776e3d5f",
      "metadata": {
        "id": "3f79992b-30e7-435f-a55e-cf41776e3d5f",
        "outputId": "e9bb147d-4cc8-40cb-e9d5-43cb436c61fe"
      },
      "outputs": [
        {
          "data": {
            "text/plain": [
              "29.69911764705882"
            ]
          },
          "execution_count": 212,
          "metadata": {},
          "output_type": "execute_result"
        }
      ],
      "source": [
        "#Checking mean of age\n",
        "df['Age'].mean()"
      ]
    },
    {
      "cell_type": "code",
      "execution_count": null,
      "id": "c3aa772a-56f5-444b-b94b-6ff0b6381f2c",
      "metadata": {
        "id": "c3aa772a-56f5-444b-b94b-6ff0b6381f2c"
      },
      "outputs": [],
      "source": [
        "# Filling age nul lvalues with mean roundoff value\n",
        "df['Age'].fillna(round(df['Age'].mean(), 0), inplace = True)"
      ]
    },
    {
      "cell_type": "code",
      "execution_count": null,
      "id": "6288fedd-81fa-4e4c-be36-d18013115a3d",
      "metadata": {
        "id": "6288fedd-81fa-4e4c-be36-d18013115a3d",
        "outputId": "2b85c089-423c-49b7-d83c-f2ad84760053"
      },
      "outputs": [
        {
          "data": {
            "text/plain": [
              "S    644\n",
              "C    168\n",
              "Q     77\n",
              "Name: Embarked, dtype: int64"
            ]
          },
          "execution_count": 214,
          "metadata": {},
          "output_type": "execute_result"
        }
      ],
      "source": [
        "df['Embarked'].value_counts()"
      ]
    },
    {
      "cell_type": "code",
      "execution_count": null,
      "id": "1d595da7-cbe4-4370-9577-bcd3bc7bd0aa",
      "metadata": {
        "id": "1d595da7-cbe4-4370-9577-bcd3bc7bd0aa",
        "outputId": "cfd71326-76d8-4c1d-dfcb-8000c8d5fcfb"
      },
      "outputs": [
        {
          "data": {
            "text/plain": [
              "'S'"
            ]
          },
          "execution_count": 215,
          "metadata": {},
          "output_type": "execute_result"
        }
      ],
      "source": [
        "df['Embarked'].mode()[0]"
      ]
    },
    {
      "cell_type": "code",
      "execution_count": null,
      "id": "a51fc1b4-9a52-426c-a6cd-e71d2595ba71",
      "metadata": {
        "id": "a51fc1b4-9a52-426c-a6cd-e71d2595ba71"
      },
      "outputs": [],
      "source": [
        "#Filling null value with mostly occuring value that's S here \n",
        "df['Embarked'].fillna(df['Embarked'].mode()[0], inplace = True)"
      ]
    },
    {
      "cell_type": "code",
      "execution_count": null,
      "id": "e2140ab9-b9e0-4b24-8872-0cb12074f293",
      "metadata": {
        "id": "e2140ab9-b9e0-4b24-8872-0cb12074f293"
      },
      "outputs": [],
      "source": [
        "# Droping cabin value since most data is missing \n",
        "df.drop(\"Cabin\" , axis =1 , inplace =True)"
      ]
    },
    {
      "cell_type": "code",
      "execution_count": null,
      "id": "e06e44d3-a232-4648-a9e9-7c9e18ce5a0c",
      "metadata": {
        "id": "e06e44d3-a232-4648-a9e9-7c9e18ce5a0c",
        "outputId": "9604cebd-b736-4eab-c7c6-08d2bc3b5fd2"
      },
      "outputs": [
        {
          "data": {
            "text/plain": [
              "Survived    0\n",
              "Pclass      0\n",
              "Name        0\n",
              "Sex         0\n",
              "Age         0\n",
              "SibSp       0\n",
              "Parch       0\n",
              "Ticket      0\n",
              "Fare        0\n",
              "Embarked    0\n",
              "dtype: int64"
            ]
          },
          "execution_count": 218,
          "metadata": {},
          "output_type": "execute_result"
        }
      ],
      "source": [
        "df.isna().sum()"
      ]
    },
    {
      "cell_type": "markdown",
      "id": "4f041fb1-e05a-49c5-b021-05b6ba7a91a5",
      "metadata": {
        "id": "4f041fb1-e05a-49c5-b021-05b6ba7a91a5"
      },
      "source": [
        "* Now that our data is not having any missing value."
      ]
    },
    {
      "cell_type": "markdown",
      "id": "811a0709-457a-4c9b-92c7-60f2f9847d01",
      "metadata": {
        "id": "811a0709-457a-4c9b-92c7-60f2f9847d01"
      },
      "source": [
        "### 5. Check and handle outliers in at least 3 columns in the dataset"
      ]
    },
    {
      "cell_type": "code",
      "execution_count": null,
      "id": "b3e7742d-35df-4b5d-80be-40923569c8ed",
      "metadata": {
        "id": "b3e7742d-35df-4b5d-80be-40923569c8ed",
        "outputId": "cc62027f-4c17-4827-ef3b-d2541dc1eac5"
      },
      "outputs": [
        {
          "data": {
            "text/plain": [
              "Text(0.5, 1.0, 'Checking Outliers in Fare')"
            ]
          },
          "execution_count": 221,
          "metadata": {},
          "output_type": "execute_result"
        },
        {
          "data": {
            "image/png": "[encoded data removed]",
            "text/plain": [
              "<Figure size 432x288 with 1 Axes>"
            ]
          },
          "metadata": {
            "needs_background": "light"
          },
          "output_type": "display_data"
        }
      ],
      "source": [
        "# Outliers in Fare\n",
        "plt.boxplot(df[\"Fare\"],vert=False)\n",
        "plt.title('Checking Outliers in Fare')"
      ]
    },
    {
      "cell_type": "code",
      "execution_count": null,
      "id": "a13ff845-cbc4-48c2-9d9f-d0232b545804",
      "metadata": {
        "id": "a13ff845-cbc4-48c2-9d9f-d0232b545804",
        "outputId": "af082b31-74dd-4b57-8ef1-94cfd1c3036a"
      },
      "outputs": [
        {
          "name": "stdout",
          "output_type": "stream",
          "text": [
            "IQR is  23.0896\n",
            "Lower limit is  -26.724\n",
            "Upper limit is 65.6344\n"
          ]
        }
      ],
      "source": [
        "# We are having outliers and need to work on it uding IQR\n",
        "\n",
        "Fare_Q1 = np.percentile(df['Fare'],25, interpolation ='midpoint')\n",
        "Fare_Q2 = np.percentile(df['Fare'],50, interpolation = 'midpoint')\n",
        "Fare_Q3 = np.percentile(df['Fare'],75, interpolation = 'midpoint')\n",
        "\n",
        "#Findding IQR ,Upper & lower limit\n",
        "\n",
        "Fare_IQR = Fare_Q3-Fare_Q1\n",
        "Fare_lower_limit = Fare_Q1 - 1.5*Fare_IQR\n",
        "Fare_upper_limit = Fare_Q3+1.5*Fare_IQR\n",
        "print(\"IQR is \" , Fare_IQR)\n",
        "print(\"Lower limit is \" , Fare_lower_limit)\n",
        "print(\"Upper limit is\" , Fare_upper_limit)\n"
      ]
    },
    {
      "cell_type": "code",
      "execution_count": null,
      "id": "bf18e177-549a-4b04-b6ee-89744cdab058",
      "metadata": {
        "id": "bf18e177-549a-4b04-b6ee-89744cdab058",
        "outputId": "acdea453-0d37-431c-da92-391ec17ccefe"
      },
      "outputs": [
        {
          "name": "stdout",
          "output_type": "stream",
          "text": [
            "Fare outlier are  [71.2833, 263.0, 146.5208, 82.1708, 76.7292, 80.0, 83.475, 73.5, 263.0, 77.2875, 247.5208, 73.5, 77.2875, 79.2, 66.6, 69.55, 69.55, 146.5208, 69.55, 113.275, 76.2917, 90.0, 83.475, 90.0, 79.2, 86.5, 512.3292, 79.65, 153.4625, 135.6333, 77.9583, 78.85, 91.0792, 151.55, 247.5208, 151.55, 110.8833, 108.9, 83.1583, 262.375, 164.8667, 134.5, 69.55, 135.6333, 153.4625, 133.65, 66.6, 134.5, 263.0, 75.25, 69.3, 135.6333, 82.1708, 211.5, 227.525, 73.5, 120.0, 113.275, 90.0, 120.0, 263.0, 81.8583, 89.1042, 91.0792, 90.0, 78.2667, 151.55, 86.5, 108.9, 93.5, 221.7792, 106.425, 71.0, 106.425, 110.8833, 227.525, 79.65, 110.8833, 79.65, 79.2, 78.2667, 153.4625, 77.9583, 69.3, 76.7292, 73.5, 113.275, 133.65, 73.5, 512.3292, 76.7292, 211.3375, 110.8833, 227.525, 151.55, 227.525, 211.3375, 512.3292, 78.85, 262.375, 71.0, 86.5, 120.0, 77.9583, 211.3375, 79.2, 69.55, 120.0, 93.5, 80.0, 83.1583, 69.55, 89.1042, 164.8667, 69.55, 83.1583]\n"
          ]
        }
      ],
      "source": [
        "Fare_outlier = []\n",
        "\n",
        "for x in df[\"Fare\"]:\n",
        "  if ((x > Fare_upper_limit) or (x < Fare_lower_limit)):\n",
        "    Fare_outlier.append(x)\n",
        "print(\"Fare outlier are \" , Fare_outlier)"
      ]
    },
    {
      "cell_type": "code",
      "execution_count": null,
      "id": "20f4a48d-f17d-4a88-93d0-523a4cdb508a",
      "metadata": {
        "id": "20f4a48d-f17d-4a88-93d0-523a4cdb508a"
      },
      "outputs": [],
      "source": [
        "ind_outlier = df[\"Fare\"] > Fare_upper_limit\n",
        "ind1 = df.loc[ind_outlier].index\n",
        "# we drop the outliers from our data\n",
        "df.drop(ind1 , inplace = True)"
      ]
    },
    {
      "cell_type": "code",
      "execution_count": null,
      "id": "77bfd1f4-a48c-49e2-be65-221d9af6860c",
      "metadata": {
        "id": "77bfd1f4-a48c-49e2-be65-221d9af6860c",
        "outputId": "371c222f-4a8f-471f-c524-03a57afa7a6f"
      },
      "outputs": [
        {
          "data": {
            "text/plain": [
              "Text(0.5, 1.0, ' Outliers in Fare')"
            ]
          },
          "execution_count": 226,
          "metadata": {},
          "output_type": "execute_result"
        },
        {
          "data": {
            "image/png": "[encoded data removed]",
            "text/plain": [
              "<Figure size 432x288 with 1 Axes>"
            ]
          },
          "metadata": {
            "needs_background": "light"
          },
          "output_type": "display_data"
        }
      ],
      "source": [
        "# Outliers in Fare\n",
        "plt.boxplot(df[\"Fare\"],vert=False)\n",
        "plt.title(' Outliers in Fare')"
      ]
    },
    {
      "cell_type": "markdown",
      "id": "d72855a7-517d-4bc5-b314-a8e85a9cc04b",
      "metadata": {
        "id": "d72855a7-517d-4bc5-b314-a8e85a9cc04b"
      },
      "source": [
        "* Now that the outliers arre reduced"
      ]
    },
    {
      "cell_type": "code",
      "execution_count": null,
      "id": "f35ca824-b398-485a-a865-69365245ff4e",
      "metadata": {
        "id": "f35ca824-b398-485a-a865-69365245ff4e",
        "outputId": "2fa75474-0c1b-4983-f227-42f226e70085"
      },
      "outputs": [
        {
          "data": {
            "text/plain": [
              "Text(0.5, 1.0, 'Checking Outliers in Age')"
            ]
          },
          "execution_count": 228,
          "metadata": {},
          "output_type": "execute_result"
        },
        {
          "data": {
            "image/png": "[encoded data removed]",
            "text/plain": [
              "<Figure size 432x288 with 1 Axes>"
            ]
          },
          "metadata": {
            "needs_background": "light"
          },
          "output_type": "display_data"
        }
      ],
      "source": [
        "plt.boxplot(df[\"Age\"],vert=False)\n",
        "plt.title('Checking Outliers in Age')"
      ]
    },
    {
      "cell_type": "code",
      "execution_count": null,
      "id": "977790da-7acb-4070-9414-5f7b2bb44392",
      "metadata": {
        "id": "977790da-7acb-4070-9414-5f7b2bb44392",
        "outputId": "56c0d96c-84b7-479b-f434-bede55d28dc2"
      },
      "outputs": [
        {
          "name": "stdout",
          "output_type": "stream",
          "text": [
            "IQR is  12.0\n",
            "outlier are  [54.0, 2.0, 58.0, 55.0, 2.0, 66.0, 3.0, 65.0, 0.83, 59.0, 71.0, 70.5, 2.0, 55.5, 1.0, 61.0, 1.0, 56.0, 1.0, 3.0, 2.0, 59.0, 54.0, 62.0, 3.0, 65.0, 54.0, 61.0, 2.0, 3.0, 3.0, 1.0, 1.0, 3.0, 65.0, 56.0, 0.75, 2.0, 63.0, 58.0, 55.0, 71.0, 54.0, 2.0, 64.0, 62.0, 62.0, 53.0, 54.0, 61.0, 57.0, 80.0, 2.0, 0.75, 56.0, 70.0, 60.0, 60.0, 0.67, 57.0, 54.0, 1.0, 0.42, 2.0, 1.0, 0.83, 74.0]\n"
          ]
        }
      ],
      "source": [
        "#We see some outliers so we have to fix it \n",
        "\n",
        "Q1 = np.percentile(df[\"Age\"] ,25 , interpolation = \"midpoint\")\n",
        "Q2 = np.percentile(df[\"Age\"] , 50 , interpolation =\"midpoint\")\n",
        "Q3 = np.percentile(df[\"Age\"] ,75 , interpolation =\"midpoint\")\n",
        "\n",
        "#find IQR\n",
        "\n",
        "IQR = Q3-Q1\n",
        "print(\"IQR is \" , IQR)\n",
        "\n",
        "#find upper and lower limit\n",
        "lower_limit = Q1 - 1.5*IQR\n",
        "upper_limit = Q3+1.5*IQR\n",
        "\n",
        "outlier = []\n",
        "\n",
        "for x in df[\"Age\"]:\n",
        "  if ((x > upper_limit) or (x < lower_limit)):\n",
        "    outlier.append(x)\n",
        "print(\"outlier are \" , outlier)"
      ]
    },
    {
      "cell_type": "code",
      "execution_count": null,
      "id": "ae4a386a-1667-46b0-a0da-d9c488bf9aee",
      "metadata": {
        "id": "ae4a386a-1667-46b0-a0da-d9c488bf9aee"
      },
      "outputs": [],
      "source": [
        "#droping lower values\n",
        "index_outlier_low = df[\"Age\"] < lower_limit\n",
        "df.drop(df.loc[index_outlier_low].index , inplace = True)\n"
      ]
    },
    {
      "cell_type": "code",
      "execution_count": null,
      "id": "a923b662-722a-47b8-9462-9c87d66389fe",
      "metadata": {
        "id": "a923b662-722a-47b8-9462-9c87d66389fe"
      },
      "outputs": [],
      "source": [
        "#droping higher values\n",
        "index_outlier_up = df[\"Age\"] > upper_limit\n",
        "df.drop(df.loc[index_outlier_up].index , inplace = True)"
      ]
    },
    {
      "cell_type": "code",
      "execution_count": null,
      "id": "e9719aa1-387a-4f21-932a-8dfd7436d6e9",
      "metadata": {
        "id": "e9719aa1-387a-4f21-932a-8dfd7436d6e9",
        "outputId": "45a43855-331d-4fc0-9d8e-ba9b0ae2371a"
      },
      "outputs": [
        {
          "data": {
            "text/plain": [
              "Text(0.5, 1.0, ' Outliers in Age')"
            ]
          },
          "execution_count": 234,
          "metadata": {},
          "output_type": "execute_result"
        },
        {
          "data": {
            "image/png": "[encoded data removed]",
            "text/plain": [
              "<Figure size 432x288 with 1 Axes>"
            ]
          },
          "metadata": {
            "needs_background": "light"
          },
          "output_type": "display_data"
        }
      ],
      "source": [
        "plt.boxplot(df[\"Age\"],vert=False)\n",
        "plt.title(' Outliers in Age')"
      ]
    },
    {
      "cell_type": "code",
      "execution_count": null,
      "id": "af418a77-d744-488b-af53-fe5c70f27334",
      "metadata": {
        "id": "af418a77-d744-488b-af53-fe5c70f27334",
        "outputId": "d72e6d0f-ff56-4632-bbaa-7fe92afdb549"
      },
      "outputs": [
        {
          "data": {
            "text/plain": [
              "Text(0.5, 1.0, 'Checking outliers SibSp ')"
            ]
          },
          "execution_count": 236,
          "metadata": {},
          "output_type": "execute_result"
        },
        {
          "data": {
            "image/png": "[encoded data removed]",
            "text/plain": [
              "<Figure size 432x288 with 1 Axes>"
            ]
          },
          "metadata": {
            "needs_background": "light"
          },
          "output_type": "display_data"
        }
      ],
      "source": [
        "plt.boxplot(df['SibSp'],vert=False)\n",
        "plt.title('Checking outliers SibSp ')"
      ]
    },
    {
      "cell_type": "code",
      "execution_count": null,
      "id": "6e09e8e1-b26e-4e0f-b64b-c22e9a7653d3",
      "metadata": {
        "id": "6e09e8e1-b26e-4e0f-b64b-c22e9a7653d3",
        "outputId": "ce7e6f75-23a8-41c6-9d3b-95f16201e347"
      },
      "outputs": [
        {
          "name": "stdout",
          "output_type": "stream",
          "text": [
            "-1.5\n",
            "2.5\n",
            "1.0\n"
          ]
        }
      ],
      "source": [
        "Q1 = np.percentile(df['SibSp'],25, interpolation ='midpoint')\n",
        "Q2 = np.percentile(df['SibSp'],50, interpolation = 'midpoint')\n",
        "Q3 = np.percentile(df['SibSp'],75, interpolation = 'midpoint')\n",
        "IQR = Q3-Q1\n",
        "upper_limit = Q3 + 1.5 * IQR\n",
        "lower_limit = Q1 - 1.5 * IQR\n",
        "print(lower_limit)\n",
        "print(upper_limit)\n",
        "print(IQR)"
      ]
    },
    {
      "cell_type": "code",
      "execution_count": null,
      "id": "3d54117c-5289-4abf-89cd-5d080562b626",
      "metadata": {
        "id": "3d54117c-5289-4abf-89cd-5d080562b626",
        "outputId": "3e8740e5-cc7c-4e98-ce25-eed263bee37c"
      },
      "outputs": [
        {
          "name": "stdout",
          "output_type": "stream",
          "text": [
            "[3, 4, 5, 3, 4, 5, 3, 4, 3, 4, 3, 4, 4, 4, 3, 5, 3, 4, 4, 3, 5, 4, 3, 4, 4, 3, 4]\n"
          ]
        }
      ],
      "source": [
        "outlier = []\n",
        "for x in df['SibSp']:\n",
        "    if ((x < lower_limit) or (x > upper_limit)):\n",
        "        outlier.append(x)\n",
        "print(outlier)"
      ]
    },
    {
      "cell_type": "code",
      "execution_count": null,
      "id": "bb7daadf-d372-4a00-b5e2-81179932ec89",
      "metadata": {
        "id": "bb7daadf-d372-4a00-b5e2-81179932ec89"
      },
      "outputs": [],
      "source": [
        "ind_sibsp = df['SibSp'] > upper_limit\n",
        "df.drop((df.loc[ind_sibsp].index), inplace = True)"
      ]
    },
    {
      "cell_type": "code",
      "execution_count": null,
      "id": "4521f65d-83fa-4516-aeb3-3a98c4dbb3b9",
      "metadata": {
        "id": "4521f65d-83fa-4516-aeb3-3a98c4dbb3b9",
        "outputId": "ee4b252c-ca90-421b-b0c1-a66bf30aaefb"
      },
      "outputs": [
        {
          "data": {
            "text/plain": [
              "(681, 10)"
            ]
          },
          "execution_count": 244,
          "metadata": {},
          "output_type": "execute_result"
        }
      ],
      "source": [
        "df.shape"
      ]
    },
    {
      "cell_type": "markdown",
      "id": "d0982d6c-ef7b-4a68-a63e-812c499cb01d",
      "metadata": {
        "id": "d0982d6c-ef7b-4a68-a63e-812c499cb01d"
      },
      "source": [
        "## 6. Do min max scaling on the feature set (Take ‘Survived’ as target)"
      ]
    },
    {
      "cell_type": "code",
      "execution_count": null,
      "id": "f7af028c-328d-4fdc-98ca-2e2811576680",
      "metadata": {
        "id": "f7af028c-328d-4fdc-98ca-2e2811576680"
      },
      "outputs": [],
      "source": [
        "X = df[['Pclass', 'Age', 'SibSp','Parch','Fare']]"
      ]
    },
    {
      "cell_type": "code",
      "execution_count": null,
      "id": "0629ce0f-04ac-490b-bd1a-73d5b4486831",
      "metadata": {
        "id": "0629ce0f-04ac-490b-bd1a-73d5b4486831"
      },
      "outputs": [],
      "source": [
        "y = df[\"Survived\"]"
      ]
    },
    {
      "cell_type": "code",
      "execution_count": null,
      "id": "3a439120-df31-4791-aa0e-35f0c69c7e29",
      "metadata": {
        "id": "3a439120-df31-4791-aa0e-35f0c69c7e29",
        "outputId": "e2765667-447d-4605-9257-507f9ee44f86"
      },
      "outputs": [
        {
          "data": {
            "text/html": [
              "<div>\n",
              "<style scoped>\n",
              "    .dataframe tbody tr th:only-of-type {\n",
              "        vertical-align: middle;\n",
              "    }\n",
              "\n",
              "    .dataframe tbody tr th {\n",
              "        vertical-align: top;\n",
              "    }\n",
              "\n",
              "    .dataframe thead th {\n",
              "        text-align: right;\n",
              "    }\n",
              "</style>\n",
              "<table border=\"1\" class=\"dataframe\">\n",
              "  <thead>\n",
              "    <tr style=\"text-align: right;\">\n",
              "      <th></th>\n",
              "      <th>Pclass</th>\n",
              "      <th>Age</th>\n",
              "      <th>SibSp</th>\n",
              "      <th>Parch</th>\n",
              "      <th>Fare</th>\n",
              "    </tr>\n",
              "  </thead>\n",
              "  <tbody>\n",
              "    <tr>\n",
              "      <th>count</th>\n",
              "      <td>681.000000</td>\n",
              "      <td>681.000000</td>\n",
              "      <td>681.000000</td>\n",
              "      <td>681.000000</td>\n",
              "      <td>681.000000</td>\n",
              "    </tr>\n",
              "    <tr>\n",
              "      <th>mean</th>\n",
              "      <td>2.500734</td>\n",
              "      <td>29.080764</td>\n",
              "      <td>0.265786</td>\n",
              "      <td>0.268722</td>\n",
              "      <td>16.590772</td>\n",
              "    </tr>\n",
              "    <tr>\n",
              "      <th>std</th>\n",
              "      <td>0.721772</td>\n",
              "      <td>9.085344</td>\n",
              "      <td>0.495410</td>\n",
              "      <td>0.753252</td>\n",
              "      <td>13.260513</td>\n",
              "    </tr>\n",
              "    <tr>\n",
              "      <th>min</th>\n",
              "      <td>1.000000</td>\n",
              "      <td>4.000000</td>\n",
              "      <td>0.000000</td>\n",
              "      <td>0.000000</td>\n",
              "      <td>0.000000</td>\n",
              "    </tr>\n",
              "    <tr>\n",
              "      <th>25%</th>\n",
              "      <td>2.000000</td>\n",
              "      <td>23.000000</td>\n",
              "      <td>0.000000</td>\n",
              "      <td>0.000000</td>\n",
              "      <td>7.854200</td>\n",
              "    </tr>\n",
              "    <tr>\n",
              "      <th>50%</th>\n",
              "      <td>3.000000</td>\n",
              "      <td>30.000000</td>\n",
              "      <td>0.000000</td>\n",
              "      <td>0.000000</td>\n",
              "      <td>10.500000</td>\n",
              "    </tr>\n",
              "    <tr>\n",
              "      <th>75%</th>\n",
              "      <td>3.000000</td>\n",
              "      <td>33.000000</td>\n",
              "      <td>0.000000</td>\n",
              "      <td>0.000000</td>\n",
              "      <td>23.250000</td>\n",
              "    </tr>\n",
              "    <tr>\n",
              "      <th>max</th>\n",
              "      <td>3.000000</td>\n",
              "      <td>52.000000</td>\n",
              "      <td>2.000000</td>\n",
              "      <td>6.000000</td>\n",
              "      <td>65.000000</td>\n",
              "    </tr>\n",
              "  </tbody>\n",
              "</table>\n",
              "</div>"
            ],
            "text/plain": [
              "           Pclass         Age       SibSp       Parch        Fare\n",
              "count  681.000000  681.000000  681.000000  681.000000  681.000000\n",
              "mean     2.500734   29.080764    0.265786    0.268722   16.590772\n",
              "std      0.721772    9.085344    0.495410    0.753252   13.260513\n",
              "min      1.000000    4.000000    0.000000    0.000000    0.000000\n",
              "25%      2.000000   23.000000    0.000000    0.000000    7.854200\n",
              "50%      3.000000   30.000000    0.000000    0.000000   10.500000\n",
              "75%      3.000000   33.000000    0.000000    0.000000   23.250000\n",
              "max      3.000000   52.000000    2.000000    6.000000   65.000000"
            ]
          },
          "execution_count": 256,
          "metadata": {},
          "output_type": "execute_result"
        }
      ],
      "source": [
        "X.describe()"
      ]
    },
    {
      "cell_type": "code",
      "execution_count": null,
      "id": "7c357bff-c113-4013-8eff-563e1480f4ba",
      "metadata": {
        "id": "7c357bff-c113-4013-8eff-563e1480f4ba"
      },
      "outputs": [],
      "source": [
        "#MIN MAX SCALING\n",
        "\n",
        "from sklearn import preprocessing\n",
        "min_max = preprocessing.MinMaxScaler(feature_range=(0,1))\n",
        "X = min_max.fit_transform(X)\n",
        "X = pd.DataFrame(X)"
      ]
    },
    {
      "cell_type": "code",
      "execution_count": null,
      "id": "892c19d2-e43d-4528-b702-3a9e8193a672",
      "metadata": {
        "id": "892c19d2-e43d-4528-b702-3a9e8193a672",
        "outputId": "0d71bb4f-ea90-4d24-a8ff-cc6ae49ab800"
      },
      "outputs": [
        {
          "data": {
            "text/html": [
              "<div>\n",
              "<style scoped>\n",
              "    .dataframe tbody tr th:only-of-type {\n",
              "        vertical-align: middle;\n",
              "    }\n",
              "\n",
              "    .dataframe tbody tr th {\n",
              "        vertical-align: top;\n",
              "    }\n",
              "\n",
              "    .dataframe thead th {\n",
              "        text-align: right;\n",
              "    }\n",
              "</style>\n",
              "<table border=\"1\" class=\"dataframe\">\n",
              "  <thead>\n",
              "    <tr style=\"text-align: right;\">\n",
              "      <th></th>\n",
              "      <th>0</th>\n",
              "      <th>1</th>\n",
              "      <th>2</th>\n",
              "      <th>3</th>\n",
              "      <th>4</th>\n",
              "    </tr>\n",
              "  </thead>\n",
              "  <tbody>\n",
              "    <tr>\n",
              "      <th>0</th>\n",
              "      <td>1.0</td>\n",
              "      <td>0.375000</td>\n",
              "      <td>0.5</td>\n",
              "      <td>0.0</td>\n",
              "      <td>0.111538</td>\n",
              "    </tr>\n",
              "    <tr>\n",
              "      <th>1</th>\n",
              "      <td>1.0</td>\n",
              "      <td>0.458333</td>\n",
              "      <td>0.0</td>\n",
              "      <td>0.0</td>\n",
              "      <td>0.121923</td>\n",
              "    </tr>\n",
              "    <tr>\n",
              "      <th>2</th>\n",
              "      <td>0.0</td>\n",
              "      <td>0.645833</td>\n",
              "      <td>0.5</td>\n",
              "      <td>0.0</td>\n",
              "      <td>0.816923</td>\n",
              "    </tr>\n",
              "    <tr>\n",
              "      <th>3</th>\n",
              "      <td>1.0</td>\n",
              "      <td>0.645833</td>\n",
              "      <td>0.0</td>\n",
              "      <td>0.0</td>\n",
              "      <td>0.123846</td>\n",
              "    </tr>\n",
              "    <tr>\n",
              "      <th>4</th>\n",
              "      <td>1.0</td>\n",
              "      <td>0.541667</td>\n",
              "      <td>0.0</td>\n",
              "      <td>0.0</td>\n",
              "      <td>0.130128</td>\n",
              "    </tr>\n",
              "  </tbody>\n",
              "</table>\n",
              "</div>"
            ],
            "text/plain": [
              "     0         1    2    3         4\n",
              "0  1.0  0.375000  0.5  0.0  0.111538\n",
              "1  1.0  0.458333  0.0  0.0  0.121923\n",
              "2  0.0  0.645833  0.5  0.0  0.816923\n",
              "3  1.0  0.645833  0.0  0.0  0.123846\n",
              "4  1.0  0.541667  0.0  0.0  0.130128"
            ]
          },
          "execution_count": 258,
          "metadata": {},
          "output_type": "execute_result"
        }
      ],
      "source": [
        "X.head()"
      ]
    },
    {
      "cell_type": "code",
      "execution_count": null,
      "id": "b7c8fc36-82f1-4ef2-8f97-87d54c94c401",
      "metadata": {
        "id": "b7c8fc36-82f1-4ef2-8f97-87d54c94c401",
        "outputId": "a5b6ce31-3aaa-44d2-b5d4-bd70db88758a"
      },
      "outputs": [
        {
          "data": {
            "text/html": [
              "<div>\n",
              "<style scoped>\n",
              "    .dataframe tbody tr th:only-of-type {\n",
              "        vertical-align: middle;\n",
              "    }\n",
              "\n",
              "    .dataframe tbody tr th {\n",
              "        vertical-align: top;\n",
              "    }\n",
              "\n",
              "    .dataframe thead th {\n",
              "        text-align: right;\n",
              "    }\n",
              "</style>\n",
              "<table border=\"1\" class=\"dataframe\">\n",
              "  <thead>\n",
              "    <tr style=\"text-align: right;\">\n",
              "      <th></th>\n",
              "      <th>0</th>\n",
              "      <th>1</th>\n",
              "      <th>2</th>\n",
              "      <th>3</th>\n",
              "      <th>4</th>\n",
              "    </tr>\n",
              "  </thead>\n",
              "  <tbody>\n",
              "    <tr>\n",
              "      <th>count</th>\n",
              "      <td>681.000000</td>\n",
              "      <td>681.000000</td>\n",
              "      <td>681.000000</td>\n",
              "      <td>681.000000</td>\n",
              "      <td>681.000000</td>\n",
              "    </tr>\n",
              "    <tr>\n",
              "      <th>mean</th>\n",
              "      <td>0.750367</td>\n",
              "      <td>0.522516</td>\n",
              "      <td>0.132893</td>\n",
              "      <td>0.044787</td>\n",
              "      <td>0.255243</td>\n",
              "    </tr>\n",
              "    <tr>\n",
              "      <th>std</th>\n",
              "      <td>0.360886</td>\n",
              "      <td>0.189278</td>\n",
              "      <td>0.247705</td>\n",
              "      <td>0.125542</td>\n",
              "      <td>0.204008</td>\n",
              "    </tr>\n",
              "    <tr>\n",
              "      <th>min</th>\n",
              "      <td>0.000000</td>\n",
              "      <td>0.000000</td>\n",
              "      <td>0.000000</td>\n",
              "      <td>0.000000</td>\n",
              "      <td>0.000000</td>\n",
              "    </tr>\n",
              "    <tr>\n",
              "      <th>25%</th>\n",
              "      <td>0.500000</td>\n",
              "      <td>0.395833</td>\n",
              "      <td>0.000000</td>\n",
              "      <td>0.000000</td>\n",
              "      <td>0.120834</td>\n",
              "    </tr>\n",
              "    <tr>\n",
              "      <th>50%</th>\n",
              "      <td>1.000000</td>\n",
              "      <td>0.541667</td>\n",
              "      <td>0.000000</td>\n",
              "      <td>0.000000</td>\n",
              "      <td>0.161538</td>\n",
              "    </tr>\n",
              "    <tr>\n",
              "      <th>75%</th>\n",
              "      <td>1.000000</td>\n",
              "      <td>0.604167</td>\n",
              "      <td>0.000000</td>\n",
              "      <td>0.000000</td>\n",
              "      <td>0.357692</td>\n",
              "    </tr>\n",
              "    <tr>\n",
              "      <th>max</th>\n",
              "      <td>1.000000</td>\n",
              "      <td>1.000000</td>\n",
              "      <td>1.000000</td>\n",
              "      <td>1.000000</td>\n",
              "      <td>1.000000</td>\n",
              "    </tr>\n",
              "  </tbody>\n",
              "</table>\n",
              "</div>"
            ],
            "text/plain": [
              "                0           1           2           3           4\n",
              "count  681.000000  681.000000  681.000000  681.000000  681.000000\n",
              "mean     0.750367    0.522516    0.132893    0.044787    0.255243\n",
              "std      0.360886    0.189278    0.247705    0.125542    0.204008\n",
              "min      0.000000    0.000000    0.000000    0.000000    0.000000\n",
              "25%      0.500000    0.395833    0.000000    0.000000    0.120834\n",
              "50%      1.000000    0.541667    0.000000    0.000000    0.161538\n",
              "75%      1.000000    0.604167    0.000000    0.000000    0.357692\n",
              "max      1.000000    1.000000    1.000000    1.000000    1.000000"
            ]
          },
          "execution_count": 259,
          "metadata": {},
          "output_type": "execute_result"
        }
      ],
      "source": [
        "X.describe()"
      ]
    },
    {
      "cell_type": "code",
      "execution_count": null,
      "id": "8f335b33-216b-489f-a533-473728a04b6a",
      "metadata": {
        "id": "8f335b33-216b-489f-a533-473728a04b6a",
        "outputId": "8cdc86ce-4769-4af3-e10e-f255ed3f0426"
      },
      "outputs": [
        {
          "name": "stdout",
          "output_type": "stream",
          "text": [
            "MSE is: 0.19292003363662996\n"
          ]
        }
      ],
      "source": [
        "from sklearn.model_selection import train_test_split\n",
        "X_train, X_test, y_train, y_test = train_test_split(X,y,random_state = 100, test_size = 0.2)\n",
        "from sklearn import linear_model\n",
        "lr = linear_model.LinearRegression()\n",
        "model = lr.fit(X_train, y_train)\n",
        "predictions = model.predict(X_test)\n",
        "from sklearn.metrics import mean_squared_error\n",
        "print ('MSE is:',mean_squared_error(y_test, predictions))"
      ]
    },
    {
      "cell_type": "markdown",
      "id": "a5f1bda5-7d61-4a4d-b577-372ff95264fa",
      "metadata": {
        "id": "a5f1bda5-7d61-4a4d-b577-372ff95264fa"
      },
      "source": [
        "* MSE value is low"
      ]
    },
    {
      "cell_type": "code",
      "execution_count": null,
      "id": "6607d9d8-03de-4c83-930c-f3195b1f9d33",
      "metadata": {
        "id": "6607d9d8-03de-4c83-930c-f3195b1f9d33"
      },
      "outputs": [],
      "source": [
        ""
      ]
    }
  ],
  "metadata": {
    "kernelspec": {
      "display_name": "Python 3",
      "language": "python",
      "name": "python3"
    },
    "language_info": {
      "codemirror_mode": {
        "name": "ipython",
        "version": 3
      },
      "file_extension": ".py",
      "mimetype": "text/x-python",
      "name": "python",
      "nbconvert_exporter": "python",
      "pygments_lexer": "ipython3",
      "version": "3.8.8"
    },
    "colab": {
      "name": "Data preprocessing.ipynb",
      "provenance": [],
      "include_colab_link": true
    }
  },
  "nbformat": 4,
  "nbformat_minor": 5
}